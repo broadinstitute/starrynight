{
 "cells": [
  {
   "cell_type": "code",
   "execution_count": 65,
   "id": "0d37489a",
   "metadata": {},
   "outputs": [],
   "source": [
    "from starrynight.utils.misc import anywidgets_path\n",
    "from starrynight.schema import DataConfig\n",
    "from starrynight.modules.gen_index import GenIndexModule\n",
    "from starrynight.modules.schema import SpecContainer\n",
    "from psygnal import EventedModel\n",
    "from anywidget.experimental import widget\n",
    "\n",
    "import anywidget\n",
    "import traitlets\n",
    "\n",
    "js_path = anywidgets_path().joinpath(\"testwidget.js\").read_text()\n",
    "css_path = anywidgets_path().joinpath(\"global.css\").read_text()\n",
    "\n",
    "data_config = DataConfig(\n",
    "    dataset_path=\"\",\n",
    "    storage_path=\"\",\n",
    "    workspace_path=\"\",\n",
    ")\n",
    "\n",
    "gen_inv_mod = GenIndexModule(data_config)\n",
    "\n",
    "@widget(esm=js_path, css=css_path)\n",
    "class CounterWidgetModel(EventedModel):\n",
    "    spec: SpecContainer"
   ]
  },
  {
   "cell_type": "code",
   "execution_count": 66,
   "id": "850eccc3-e058-4a5c-b42d-3c849ed9a416",
   "metadata": {},
   "outputs": [],
   "source": [
    "a = CounterWidgetModel(spec=gen_inv_mod.spec)"
   ]
  },
  {
   "cell_type": "code",
   "execution_count": 67,
   "id": "5370eee2-07c5-4ed4-8c32-d3eb9c30997b",
   "metadata": {},
   "outputs": [
    {
     "data": {
      "application/vnd.jupyter.widget-view+json": {
       "model_id": "cb749feea1b3458b983ba801ff16b3e8",
       "version_major": 2,
       "version_minor": 1
      },
      "text/plain": [
       "CounterWidgetModel(spec=SpecContainer(inputs={'inventory_path': TypeInput(name='inventory_path', type='file', label='', description='Path to the inventory.', cli_tag='', cli_order=None, default='', optional=False, format=None, folder_name=None, file_count=None, section_id='', mode='beginner', subtype=None, depth=None, timepoints=None, tiled=None, pyramidal=None, value='/home/ank/workspace/hub/broad/starrynight/starrynight/notebooks/ipynb/inventory/inventory.parquet'), 'parser_path': TypeInput(name='parser_path', type='file', label='', description='Path to a custom parser grammar file.', cli_tag='', cli_order=None, default='', optional=True, format=None, folder_name=None, file_count=None, section_id='', mode='beginner', subtype=None, depth=None, timepoints=None, tiled=None, pyramidal=None, value=None)}, outputs={'project_index_path': TypeOutput(name='project_index', type='file', label='', description='Generated Index', cli_tag='', cli_order=None, default='', optional=False, format=None, folder_name=None, file_count=None, section_id='', mode='beginner', subtype=None, depth=None, timepoints=None, tiled=None, pyramidal=None, value='/home/ank/workspace/hub/broad/starrynight/starrynight/notebooks/ipynb/index/index.parquet'), 'index_notebook_path': TypeOutput(name='index_notebook', type='notebook', label='', description='Notebook for inspecting index', cli_tag='', cli_order=None, default='', optional=False, format=None, folder_name=None, file_count=None, section_id='', mode='beginner', subtype=None, depth=None, timepoints=None, tiled=None, pyramidal=None, value=None)}, parameters=[], display_only=[], exec_function=ExecFunction(name='', script='', module='', cli_command='', hidden_args=None), docker_image=None, algorithm_folder_name=None, citations=TypeCitations(algorithm=[TypeAlgorithmFromCitation(name='Starrynight indexing module', doi=None, license=None, description='This module generates an index for the dataset.')]), results=[]))"
      ]
     },
     "execution_count": 67,
     "metadata": {},
     "output_type": "execute_result"
    }
   ],
   "source": [
    "a"
   ]
  },
  {
   "cell_type": "code",
   "execution_count": null,
   "id": "a858aed6-e60e-4313-990d-4c897c491593",
   "metadata": {},
   "outputs": [],
   "source": []
  }
 ],
 "metadata": {
  "kernelspec": {
   "display_name": "Python 3 (ipykernel)",
   "language": "python",
   "name": "python3"
  },
  "language_info": {
   "codemirror_mode": {
    "name": "ipython",
    "version": 3
   },
   "file_extension": ".py",
   "mimetype": "text/x-python",
   "name": "python",
   "nbconvert_exporter": "python",
   "pygments_lexer": "ipython3",
   "version": "3.11.10"
  }
 },
 "nbformat": 4,
 "nbformat_minor": 5
}
